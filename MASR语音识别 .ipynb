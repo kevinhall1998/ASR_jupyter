{
 "cells": [
  {
   "cell_type": "markdown",
   "id": "1f8a4c21-4965-4a1d-861b-0dd9d8d0c9e7",
   "metadata": {
    "tags": []
   },
   "source": [
    "## 使用masr实现语音识别 一步一步执行"
   ]
  },
  {
   "cell_type": "markdown",
   "id": "378b2c75-8b5c-457f-b580-f640b73512ba",
   "metadata": {},
   "source": [
    "从 kevinhall1998或者夜雨飘零下载都可以 的github上clone一个masr的源代码,我使用了自己fork的版本"
   ]
  },
  {
   "cell_type": "code",
   "execution_count": null,
   "id": "c21ec7f3-94a5-490b-b3f6-0cb6fab3a979",
   "metadata": {
    "tags": []
   },
   "outputs": [],
   "source": [
    "!git clone https://github.com/kevinhall1998/MASR.git"
   ]
  },
  {
   "cell_type": "markdown",
   "id": "559dfe28-6b86-419e-b35a-147a48c87023",
   "metadata": {},
   "source": [
    "进入目录并且安装依赖"
   ]
  },
  {
   "cell_type": "code",
   "execution_count": null,
   "id": "a3e4c061-702f-4765-b5c4-b2484a51c014",
   "metadata": {
    "ExecutionIndicator": {
     "show": true
    },
    "tags": []
   },
   "outputs": [],
   "source": [
    "!pip install --upgrade pip\n",
    "!pip install -r MASR/requirements.txt"
   ]
  },
  {
   "cell_type": "markdown",
   "id": "3371a500-ecc5-42b4-8983-2cf686be71d2",
   "metadata": {},
   "source": [
    "完成以上操作，请先到MASR/download_data/执行--\"下载语音数据集.ipynb\"，下载完成后到MASR目录执行\"Astart.ipynb\"."
   ]
  }
 ],
 "metadata": {
  "kernelspec": {
   "display_name": "Python 3 (ipykernel)",
   "language": "python",
   "name": "python3"
  },
  "language_info": {
   "codemirror_mode": {
    "name": "ipython",
    "version": 3
   },
   "file_extension": ".py",
   "mimetype": "text/x-python",
   "name": "python",
   "nbconvert_exporter": "python",
   "pygments_lexer": "ipython3",
   "version": "3.10.0"
  }
 },
 "nbformat": 4,
 "nbformat_minor": 5
}
