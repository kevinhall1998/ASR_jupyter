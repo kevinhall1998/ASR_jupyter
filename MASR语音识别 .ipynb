{
 "cells": [
  {
   "cell_type": "markdown",
   "id": "1f8a4c21-4965-4a1d-861b-0dd9d8d0c9e7",
   "metadata": {
    "tags": []
   },
   "source": [
    "## 使用masr实现语音识别 一步一步执行"
   ]
  },
  {
   "cell_type": "markdown",
   "id": "378b2c75-8b5c-457f-b580-f640b73512ba",
   "metadata": {},
   "source": [
    "从 kevinhall1998或者夜雨飘零下载都可以 的github上clone一个masr的源代码,我使用了自己fork的版本"
   ]
  },
  {
   "cell_type": "code",
   "execution_count": 1,
   "id": "c21ec7f3-94a5-490b-b3f6-0cb6fab3a979",
   "metadata": {
    "execution": {
     "iopub.execute_input": "2024-03-05T07:27:13.578571Z",
     "iopub.status.busy": "2024-03-05T07:27:13.578004Z",
     "iopub.status.idle": "2024-03-05T07:27:16.717868Z",
     "shell.execute_reply": "2024-03-05T07:27:16.716741Z",
     "shell.execute_reply.started": "2024-03-05T07:27:13.578536Z"
    },
    "tags": []
   },
   "outputs": [
    {
     "name": "stdout",
     "output_type": "stream",
     "text": [
      "正克隆到 'MASR'...\n",
      "remote: Enumerating objects: 1959, done.\u001b[K\n",
      "remote: Counting objects: 100% (666/666), done.\u001b[K\n",
      "remote: Compressing objects: 100% (256/256), done.\u001b[K\n",
      "remote: Total 1959 (delta 458), reused 575 (delta 404), pack-reused 1293\u001b[K\n",
      "接收对象中: 100% (1959/1959), 6.37 MiB | 4.29 MiB/s, 完成.\n",
      "处理 delta 中: 100% (1348/1348), 完成.\n"
     ]
    }
   ],
   "source": [
    "!git clone https://github.com/kevinhall1998/MASR.git"
   ]
  },
  {
   "cell_type": "markdown",
   "id": "559dfe28-6b86-419e-b35a-147a48c87023",
   "metadata": {},
   "source": [
    "进入目录并且安装依赖"
   ]
  },
  {
   "cell_type": "code",
   "execution_count": 2,
   "id": "a3e4c061-702f-4765-b5c4-b2484a51c014",
   "metadata": {
    "ExecutionIndicator": {
     "show": true
    },
    "execution": {
     "iopub.execute_input": "2024-03-05T07:27:20.284873Z",
     "iopub.status.busy": "2024-03-05T07:27:20.284335Z",
     "iopub.status.idle": "2024-03-05T07:27:53.388208Z",
     "shell.execute_reply": "2024-03-05T07:27:53.387286Z",
     "shell.execute_reply.started": "2024-03-05T07:27:20.284847Z"
    },
    "tags": []
   },
   "outputs": [
    {
     "name": "stdout",
     "output_type": "stream",
     "text": [
      "Looking in indexes: https://mirrors.aliyun.com/pypi/simple\n",
      "Requirement already satisfied: pip in /opt/conda/lib/python3.10/site-packages (23.3.2)\n",
      "Collecting pip\n",
      "  Downloading https://mirrors.aliyun.com/pypi/packages/8a/6a/19e9fe04fca059ccf770861c7d5721ab4c2aebc539889e97c7977528a53b/pip-24.0-py3-none-any.whl (2.1 MB)\n",
      "\u001b[2K     \u001b[90m━━━━━━━━━━━━━━━━━━━━━━━━━━━━━━━━━━━━━━━━\u001b[0m \u001b[32m2.1/2.1 MB\u001b[0m \u001b[31m463.7 kB/s\u001b[0m eta \u001b[36m0:00:00\u001b[0m00:01\u001b[0m00:01\u001b[0m\n",
      "\u001b[?25h\u001b[33mDEPRECATION: pytorch-lightning 1.7.7 has a non-standard dependency specifier torch>=1.9.*. pip 24.0 will enforce this behaviour change. A possible replacement is to upgrade to a newer version of pytorch-lightning or contact the author to suggest that they release a version with a conforming dependency specifiers. Discussion can be found at https://github.com/pypa/pip/issues/12063\u001b[0m\u001b[33m\n",
      "\u001b[0mInstalling collected packages: pip\n",
      "  Attempting uninstall: pip\n",
      "    Found existing installation: pip 23.3.2\n",
      "    Uninstalling pip-23.3.2:\n",
      "      Successfully uninstalled pip-23.3.2\n",
      "Successfully installed pip-24.0\n",
      "\u001b[33mWARNING: Running pip as the 'root' user can result in broken permissions and conflicting behaviour with the system package manager. It is recommended to use a virtual environment instead: https://pip.pypa.io/warnings/venv\u001b[0m\u001b[33m\n",
      "\u001b[0mLooking in indexes: https://mirrors.aliyun.com/pypi/simple\n",
      "Requirement already satisfied: numpy>=1.19.2 in /opt/conda/lib/python3.10/site-packages (from -r MASR/requirements.txt (line 1)) (1.26.3)\n",
      "Requirement already satisfied: scipy>=1.6.3 in /opt/conda/lib/python3.10/site-packages (from -r MASR/requirements.txt (line 2)) (1.11.4)\n",
      "Requirement already satisfied: tqdm in /opt/conda/lib/python3.10/site-packages (from -r MASR/requirements.txt (line 3)) (4.65.0)\n",
      "Collecting python-Levenshtein==0.12.2 (from -r MASR/requirements.txt (line 4))\n",
      "  Downloading https://mirrors.aliyun.com/pypi/packages/2a/dc/97f2b63ef0fa1fd78dcb7195aca577804f6b2b51e712516cc0e902a9a201/python-Levenshtein-0.12.2.tar.gz (50 kB)\n",
      "\u001b[2K     \u001b[90m━━━━━━━━━━━━━━━━━━━━━━━━━━━━━━━━━━━━━━━\u001b[0m \u001b[32m50.5/50.5 kB\u001b[0m \u001b[31m492.9 kB/s\u001b[0m eta \u001b[36m0:00:00\u001b[0ma \u001b[36m0:00:01\u001b[0m\n",
      "\u001b[?25h  Preparing metadata (setup.py) ... \u001b[?25ldone\n",
      "\u001b[?25hCollecting visualdl>=2.1.1 (from -r MASR/requirements.txt (line 5))\n",
      "  Downloading https://mirrors.aliyun.com/pypi/packages/ea/b5/37726c750a4f4598660998327c3566b2d2ed5a1a5f44e9f0dde875602447/visualdl-2.5.3-py3-none-any.whl (6.3 MB)\n",
      "\u001b[2K     \u001b[90m━━━━━━━━━━━━━━━━━━━━━━━━━━━━━━━━━━━━━━━━\u001b[0m \u001b[32m6.3/6.3 MB\u001b[0m \u001b[31m500.7 kB/s\u001b[0m eta \u001b[36m0:00:00\u001b[0m00:01\u001b[0m00:01\u001b[0m\n",
      "\u001b[?25hRequirement already satisfied: soundfile>=0.12.1 in /opt/conda/lib/python3.10/site-packages (from -r MASR/requirements.txt (line 6)) (0.12.1)\n",
      "Collecting soundcard>=0.4.2 (from -r MASR/requirements.txt (line 7))\n",
      "  Downloading https://mirrors.aliyun.com/pypi/packages/27/69/46997b6c63753abcbd9ab626e762537a56a40001f7ee261c831bbcff0bce/SoundCard-0.4.2-py3-none-any.whl (40 kB)\n",
      "\u001b[2K     \u001b[90m━━━━━━━━━━━━━━━━━━━━━━━━━━━━━━━━━━━━━━━\u001b[0m \u001b[32m40.9/40.9 kB\u001b[0m \u001b[31m470.1 kB/s\u001b[0m eta \u001b[36m0:00:00\u001b[0ma \u001b[36m0:00:01\u001b[0m\n",
      "\u001b[?25hRequirement already satisfied: resampy>=0.2.2 in /opt/conda/lib/python3.10/site-packages (from -r MASR/requirements.txt (line 8)) (0.4.2)\n",
      "Requirement already satisfied: zhconv>=1.4.2 in /opt/conda/lib/python3.10/site-packages (from -r MASR/requirements.txt (line 9)) (1.4.3)\n",
      "Collecting ijson>=3.1.4 (from -r MASR/requirements.txt (line 10))\n",
      "  Downloading https://mirrors.aliyun.com/pypi/packages/6b/78/2cbeb7020a7a319d148c92331951cfc710864990e32ff6c7f4859729fb48/ijson-3.2.3-cp310-cp310-manylinux_2_17_x86_64.manylinux2014_x86_64.whl (111 kB)\n",
      "\u001b[2K     \u001b[90m━━━━━━━━━━━━━━━━━━━━━━━━━━━━━━━━━━━━━\u001b[0m \u001b[32m111.8/111.8 kB\u001b[0m \u001b[31m493.5 kB/s\u001b[0m eta \u001b[36m0:00:00\u001b[0ma \u001b[36m0:00:01\u001b[0m\n",
      "\u001b[?25hRequirement already satisfied: pyyaml>=5.4.1 in /opt/conda/lib/python3.10/site-packages (from -r MASR/requirements.txt (line 11)) (6.0.1)\n",
      "Requirement already satisfied: termcolor>=1.1.0 in /opt/conda/lib/python3.10/site-packages (from -r MASR/requirements.txt (line 12)) (2.4.0)\n",
      "Requirement already satisfied: scikit-learn>=1.0.2 in /opt/conda/lib/python3.10/site-packages (from -r MASR/requirements.txt (line 13)) (1.3.2)\n",
      "Requirement already satisfied: typeguard==2.13.3 in /opt/conda/lib/python3.10/site-packages (from -r MASR/requirements.txt (line 14)) (2.13.3)\n",
      "Requirement already satisfied: onnxruntime>=1.11.1 in /opt/conda/lib/python3.10/site-packages (from -r MASR/requirements.txt (line 15)) (1.17.0)\n",
      "Requirement already satisfied: av>=10.0.0 in /opt/conda/lib/python3.10/site-packages (from -r MASR/requirements.txt (line 16)) (11.0.0)\n",
      "Collecting pydub>=0.24.0 (from -r MASR/requirements.txt (line 17))\n",
      "  Downloading https://mirrors.aliyun.com/pypi/packages/a6/53/d78dc063216e62fc55f6b2eebb447f6a4b0a59f55c8406376f76bf959b08/pydub-0.25.1-py2.py3-none-any.whl (32 kB)\n",
      "Requirement already satisfied: setuptools in /opt/conda/lib/python3.10/site-packages (from python-Levenshtein==0.12.2->-r MASR/requirements.txt (line 4)) (68.0.0)\n",
      "Collecting bce-python-sdk (from visualdl>=2.1.1->-r MASR/requirements.txt (line 5))\n",
      "  Downloading https://mirrors.aliyun.com/pypi/packages/d6/bb/7fe601817292db31802898f5729f03daef383f10b19c38662f018adb5048/bce_python_sdk-0.9.4-py3-none-any.whl (329 kB)\n",
      "\u001b[2K     \u001b[90m━━━━━━━━━━━━━━━━━━━━━━━━━━━━━━━━━━━━━\u001b[0m \u001b[32m329.2/329.2 kB\u001b[0m \u001b[31m499.7 kB/s\u001b[0m eta \u001b[36m0:00:00\u001b[0ma \u001b[36m0:00:01\u001b[0m\n",
      "\u001b[?25hRequirement already satisfied: flask>=1.1.1 in /opt/conda/lib/python3.10/site-packages (from visualdl>=2.1.1->-r MASR/requirements.txt (line 5)) (2.2.5)\n",
      "Collecting Flask-Babel>=3.0.0 (from visualdl>=2.1.1->-r MASR/requirements.txt (line 5))\n",
      "  Downloading https://mirrors.aliyun.com/pypi/packages/14/c2/e0ab5abe37882e118482884f2ec660cd06da644ddfbceccf5f88f546b574/flask_babel-4.0.0-py3-none-any.whl (9.6 kB)\n",
      "Requirement already satisfied: Pillow>=7.0.0 in /opt/conda/lib/python3.10/site-packages (from visualdl>=2.1.1->-r MASR/requirements.txt (line 5)) (10.2.0)\n",
      "Requirement already satisfied: protobuf>=3.20.0 in /opt/conda/lib/python3.10/site-packages (from visualdl>=2.1.1->-r MASR/requirements.txt (line 5)) (3.20.3)\n",
      "Requirement already satisfied: requests in /opt/conda/lib/python3.10/site-packages (from visualdl>=2.1.1->-r MASR/requirements.txt (line 5)) (2.31.0)\n",
      "Requirement already satisfied: six>=1.14.0 in /opt/conda/lib/python3.10/site-packages (from visualdl>=2.1.1->-r MASR/requirements.txt (line 5)) (1.16.0)\n",
      "Requirement already satisfied: matplotlib in /opt/conda/lib/python3.10/site-packages (from visualdl>=2.1.1->-r MASR/requirements.txt (line 5)) (3.5.3)\n",
      "Requirement already satisfied: pandas in /opt/conda/lib/python3.10/site-packages (from visualdl>=2.1.1->-r MASR/requirements.txt (line 5)) (2.1.4)\n",
      "Requirement already satisfied: packaging in /opt/conda/lib/python3.10/site-packages (from visualdl>=2.1.1->-r MASR/requirements.txt (line 5)) (23.1)\n",
      "Collecting rarfile (from visualdl>=2.1.1->-r MASR/requirements.txt (line 5))\n",
      "  Downloading https://mirrors.aliyun.com/pypi/packages/75/34/f06b7de74bcea328d8d7a950aad099c1100578cc3960ffc5a00d30ab511c/rarfile-4.1-py3-none-any.whl (28 kB)\n",
      "Requirement already satisfied: psutil in /opt/conda/lib/python3.10/site-packages (from visualdl>=2.1.1->-r MASR/requirements.txt (line 5)) (5.9.7)\n",
      "Requirement already satisfied: cffi>=1.0 in /opt/conda/lib/python3.10/site-packages (from soundfile>=0.12.1->-r MASR/requirements.txt (line 6)) (1.15.1)\n",
      "Requirement already satisfied: numba>=0.53 in /opt/conda/lib/python3.10/site-packages (from resampy>=0.2.2->-r MASR/requirements.txt (line 8)) (0.58.1)\n",
      "Requirement already satisfied: joblib>=1.1.1 in /opt/conda/lib/python3.10/site-packages (from scikit-learn>=1.0.2->-r MASR/requirements.txt (line 13)) (1.3.2)\n",
      "Requirement already satisfied: threadpoolctl>=2.0.0 in /opt/conda/lib/python3.10/site-packages (from scikit-learn>=1.0.2->-r MASR/requirements.txt (line 13)) (3.2.0)\n",
      "Requirement already satisfied: coloredlogs in /opt/conda/lib/python3.10/site-packages (from onnxruntime>=1.11.1->-r MASR/requirements.txt (line 15)) (14.0)\n",
      "Requirement already satisfied: flatbuffers in /opt/conda/lib/python3.10/site-packages (from onnxruntime>=1.11.1->-r MASR/requirements.txt (line 15)) (23.5.26)\n",
      "Requirement already satisfied: sympy in /opt/conda/lib/python3.10/site-packages (from onnxruntime>=1.11.1->-r MASR/requirements.txt (line 15)) (1.12)\n",
      "Requirement already satisfied: pycparser in /opt/conda/lib/python3.10/site-packages (from cffi>=1.0->soundfile>=0.12.1->-r MASR/requirements.txt (line 6)) (2.21)\n",
      "Requirement already satisfied: Werkzeug>=2.2.2 in /opt/conda/lib/python3.10/site-packages (from flask>=1.1.1->visualdl>=2.1.1->-r MASR/requirements.txt (line 5)) (2.2.3)\n",
      "Requirement already satisfied: Jinja2>=3.0 in /opt/conda/lib/python3.10/site-packages (from flask>=1.1.1->visualdl>=2.1.1->-r MASR/requirements.txt (line 5)) (3.1.2)\n",
      "Requirement already satisfied: itsdangerous>=2.0 in /opt/conda/lib/python3.10/site-packages (from flask>=1.1.1->visualdl>=2.1.1->-r MASR/requirements.txt (line 5)) (2.1.2)\n",
      "Requirement already satisfied: click>=8.0 in /opt/conda/lib/python3.10/site-packages (from flask>=1.1.1->visualdl>=2.1.1->-r MASR/requirements.txt (line 5)) (8.1.7)\n",
      "Requirement already satisfied: Babel>=2.12 in /opt/conda/lib/python3.10/site-packages (from Flask-Babel>=3.0.0->visualdl>=2.1.1->-r MASR/requirements.txt (line 5)) (2.14.0)\n",
      "Requirement already satisfied: pytz>=2022.7 in /opt/conda/lib/python3.10/site-packages (from Flask-Babel>=3.0.0->visualdl>=2.1.1->-r MASR/requirements.txt (line 5)) (2023.3.post1)\n",
      "Requirement already satisfied: llvmlite<0.42,>=0.41.0dev0 in /opt/conda/lib/python3.10/site-packages (from numba>=0.53->resampy>=0.2.2->-r MASR/requirements.txt (line 8)) (0.41.1)\n",
      "Requirement already satisfied: pycryptodome>=3.8.0 in /opt/conda/lib/python3.10/site-packages (from bce-python-sdk->visualdl>=2.1.1->-r MASR/requirements.txt (line 5)) (3.20.0)\n",
      "Requirement already satisfied: future>=0.6.0 in /opt/conda/lib/python3.10/site-packages (from bce-python-sdk->visualdl>=2.1.1->-r MASR/requirements.txt (line 5)) (0.18.3)\n",
      "Requirement already satisfied: humanfriendly>=7.1 in /opt/conda/lib/python3.10/site-packages (from coloredlogs->onnxruntime>=1.11.1->-r MASR/requirements.txt (line 15)) (10.0)\n",
      "Requirement already satisfied: cycler>=0.10 in /opt/conda/lib/python3.10/site-packages (from matplotlib->visualdl>=2.1.1->-r MASR/requirements.txt (line 5)) (0.12.1)\n",
      "Requirement already satisfied: fonttools>=4.22.0 in /opt/conda/lib/python3.10/site-packages (from matplotlib->visualdl>=2.1.1->-r MASR/requirements.txt (line 5)) (4.47.0)\n",
      "Requirement already satisfied: kiwisolver>=1.0.1 in /opt/conda/lib/python3.10/site-packages (from matplotlib->visualdl>=2.1.1->-r MASR/requirements.txt (line 5)) (1.4.5)\n",
      "Requirement already satisfied: pyparsing>=2.2.1 in /opt/conda/lib/python3.10/site-packages (from matplotlib->visualdl>=2.1.1->-r MASR/requirements.txt (line 5)) (3.1.1)\n",
      "Requirement already satisfied: python-dateutil>=2.7 in /opt/conda/lib/python3.10/site-packages (from matplotlib->visualdl>=2.1.1->-r MASR/requirements.txt (line 5)) (2.8.2)\n",
      "Requirement already satisfied: tzdata>=2022.1 in /opt/conda/lib/python3.10/site-packages (from pandas->visualdl>=2.1.1->-r MASR/requirements.txt (line 5)) (2023.4)\n",
      "Requirement already satisfied: charset-normalizer<4,>=2 in /opt/conda/lib/python3.10/site-packages (from requests->visualdl>=2.1.1->-r MASR/requirements.txt (line 5)) (2.0.4)\n",
      "Requirement already satisfied: idna<4,>=2.5 in /opt/conda/lib/python3.10/site-packages (from requests->visualdl>=2.1.1->-r MASR/requirements.txt (line 5)) (3.4)\n",
      "Requirement already satisfied: urllib3<3,>=1.21.1 in /opt/conda/lib/python3.10/site-packages (from requests->visualdl>=2.1.1->-r MASR/requirements.txt (line 5)) (1.26.16)\n",
      "Requirement already satisfied: certifi>=2017.4.17 in /opt/conda/lib/python3.10/site-packages (from requests->visualdl>=2.1.1->-r MASR/requirements.txt (line 5)) (2023.11.17)\n",
      "Requirement already satisfied: mpmath>=0.19 in /opt/conda/lib/python3.10/site-packages (from sympy->onnxruntime>=1.11.1->-r MASR/requirements.txt (line 15)) (1.3.0)\n",
      "Requirement already satisfied: MarkupSafe>=2.0 in /opt/conda/lib/python3.10/site-packages (from Jinja2>=3.0->flask>=1.1.1->visualdl>=2.1.1->-r MASR/requirements.txt (line 5)) (2.1.3)\n",
      "Building wheels for collected packages: python-Levenshtein\n",
      "  Building wheel for python-Levenshtein (setup.py) ... \u001b[?25ldone\n",
      "\u001b[?25h  Created wheel for python-Levenshtein: filename=python_Levenshtein-0.12.2-cp310-cp310-linux_x86_64.whl size=79454 sha256=2a9c53ba85ef20ec8c100e72d8b44e37ea3bc281093ef609651774f030c832d9\n",
      "  Stored in directory: /root/.cache/pip/wheels/73/20/4f/8925a90185a86a46935fda81228b5cc740f48490dedcc584f9\n",
      "Successfully built python-Levenshtein\n",
      "\u001b[33mDEPRECATION: pytorch-lightning 1.7.7 has a non-standard dependency specifier torch>=1.9.*. pip 24.1 will enforce this behaviour change. A possible replacement is to upgrade to a newer version of pytorch-lightning or contact the author to suggest that they release a version with a conforming dependency specifiers. Discussion can be found at https://github.com/pypa/pip/issues/12063\u001b[0m\u001b[33m\n",
      "\u001b[0mInstalling collected packages: pydub, ijson, rarfile, python-Levenshtein, bce-python-sdk, soundcard, Flask-Babel, visualdl\n",
      "Successfully installed Flask-Babel-4.0.0 bce-python-sdk-0.9.4 ijson-3.2.3 pydub-0.25.1 python-Levenshtein-0.12.2 rarfile-4.1 soundcard-0.4.2 visualdl-2.5.3\n",
      "\u001b[33mWARNING: Running pip as the 'root' user can result in broken permissions and conflicting behaviour with the system package manager. It is recommended to use a virtual environment instead: https://pip.pypa.io/warnings/venv\u001b[0m\u001b[33m\n",
      "\u001b[0m"
     ]
    }
   ],
   "source": [
    "!pip install --upgrade pip\n",
    "!pip install -r MASR/requirements.txt"
   ]
  },
  {
   "cell_type": "markdown",
   "id": "3371a500-ecc5-42b4-8983-2cf686be71d2",
   "metadata": {},
   "source": [
    "完成以上操作，请先到MASR/download_data/执行下载语音数据集，下载完成后到MASR目录执行Astart.ipynb"
   ]
  }
 ],
 "metadata": {
  "kernelspec": {
   "display_name": "Python 3 (ipykernel)",
   "language": "python",
   "name": "python3"
  },
  "language_info": {
   "codemirror_mode": {
    "name": "ipython",
    "version": 3
   },
   "file_extension": ".py",
   "mimetype": "text/x-python",
   "name": "python",
   "nbconvert_exporter": "python",
   "pygments_lexer": "ipython3",
   "version": "3.10.13"
  }
 },
 "nbformat": 4,
 "nbformat_minor": 5
}
